{
  "nbformat": 4,
  "nbformat_minor": 0,
  "metadata": {
    "colab": {
      "name": "TT_Lib.ipynb",
      "provenance": [],
      "collapsed_sections": [],
      "authorship_tag": "ABX9TyOAbiG3rKk4iDPq2Amo9Zqw",
      "include_colab_link": true
    },
    "kernelspec": {
      "name": "python3",
      "display_name": "Python 3"
    },
    "accelerator": "GPU"
  },
  "cells": [
    {
      "cell_type": "markdown",
      "metadata": {
        "id": "view-in-github",
        "colab_type": "text"
      },
      "source": [
        "<a href=\"https://colab.research.google.com/github/fasghq/TT/blob/master/TT_Lib.ipynb\" target=\"_parent\"><img src=\"https://colab.research.google.com/assets/colab-badge.svg\" alt=\"Open In Colab\"/></a>"
      ]
    },
    {
      "cell_type": "code",
      "metadata": {
        "id": "ZYVBBim_Ea4P",
        "colab_type": "code",
        "colab": {
          "base_uri": "https://localhost:8080/",
          "height": 306
        },
        "outputId": "5f6bf54e-aba6-4082-b01d-34c4f1b5eea0"
      },
      "source": [
        "!pip install flax"
      ],
      "execution_count": 2,
      "outputs": [
        {
          "output_type": "stream",
          "text": [
            "Collecting flax\n",
            "\u001b[?25l  Downloading https://files.pythonhosted.org/packages/91/b8/ab292e363cb8758a391541b7942f175f79b3ac06a477dd4495de7c8c91f6/flax-0.2.0-py3-none-any.whl (84kB)\n",
            "\r\u001b[K     |███▉                            | 10kB 25.8MB/s eta 0:00:01\r\u001b[K     |███████▊                        | 20kB 6.2MB/s eta 0:00:01\r\u001b[K     |███████████▋                    | 30kB 7.4MB/s eta 0:00:01\r\u001b[K     |███████████████▌                | 40kB 8.4MB/s eta 0:00:01\r\u001b[K     |███████████████████▍            | 51kB 6.9MB/s eta 0:00:01\r\u001b[K     |███████████████████████▎        | 61kB 7.5MB/s eta 0:00:01\r\u001b[K     |███████████████████████████▏    | 71kB 8.6MB/s eta 0:00:01\r\u001b[K     |███████████████████████████████ | 81kB 9.2MB/s eta 0:00:01\r\u001b[K     |████████████████████████████████| 92kB 6.3MB/s \n",
            "\u001b[?25hRequirement already satisfied: dataclasses; python_version < \"3.7\" in /usr/local/lib/python3.6/dist-packages (from flax) (0.7)\n",
            "Requirement already satisfied: matplotlib in /usr/local/lib/python3.6/dist-packages (from flax) (3.2.2)\n",
            "Requirement already satisfied: numpy>=1.12 in /usr/local/lib/python3.6/dist-packages (from flax) (1.18.5)\n",
            "Requirement already satisfied: msgpack in /usr/local/lib/python3.6/dist-packages (from flax) (1.0.0)\n",
            "Requirement already satisfied: jax>=0.1.59 in /usr/local/lib/python3.6/dist-packages (from flax) (0.1.73)\n",
            "Requirement already satisfied: cycler>=0.10 in /usr/local/lib/python3.6/dist-packages (from matplotlib->flax) (0.10.0)\n",
            "Requirement already satisfied: kiwisolver>=1.0.1 in /usr/local/lib/python3.6/dist-packages (from matplotlib->flax) (1.2.0)\n",
            "Requirement already satisfied: pyparsing!=2.0.4,!=2.1.2,!=2.1.6,>=2.0.1 in /usr/local/lib/python3.6/dist-packages (from matplotlib->flax) (2.4.7)\n",
            "Requirement already satisfied: python-dateutil>=2.1 in /usr/local/lib/python3.6/dist-packages (from matplotlib->flax) (2.8.1)\n",
            "Requirement already satisfied: opt-einsum in /usr/local/lib/python3.6/dist-packages (from jax>=0.1.59->flax) (3.3.0)\n",
            "Requirement already satisfied: absl-py in /usr/local/lib/python3.6/dist-packages (from jax>=0.1.59->flax) (0.9.0)\n",
            "Requirement already satisfied: six in /usr/local/lib/python3.6/dist-packages (from cycler>=0.10->matplotlib->flax) (1.15.0)\n",
            "Installing collected packages: flax\n",
            "Successfully installed flax-0.2.0\n"
          ],
          "name": "stdout"
        }
      ]
    },
    {
      "cell_type": "code",
      "metadata": {
        "id": "DOUvwIVwCoxD",
        "colab_type": "code",
        "colab": {}
      },
      "source": [
        "from jax import ops\n",
        "import jax.numpy as jnp\n",
        "from jax.numpy import maximum\n",
        "from jax import grad\n",
        "import jax.numpy as np\n",
        "from jax.numpy import linalg as la\n",
        "from jax import jit\n",
        "from jax import lax\n",
        "import numpy as nnp\n",
        "import math\n",
        "import time\n",
        "import flax\n",
        "from flax import struct"
      ],
      "execution_count": 3,
      "outputs": []
    },
    {
      "cell_type": "code",
      "metadata": {
        "id": "OdJgRx1sEgPM",
        "colab_type": "code",
        "colab": {}
      },
      "source": [
        "class TT_Tensor:\n",
        "    def __init__(self, core, d, n, r):\n",
        "        self.core = core\n",
        "        self.d = d\n",
        "        self.n = n\n",
        "        self.r = r"
      ],
      "execution_count": 4,
      "outputs": []
    },
    {
      "cell_type": "code",
      "metadata": {
        "id": "j3EVDmOAEj6s",
        "colab_type": "code",
        "colab": {}
      },
      "source": [
        "@struct.dataclass\n",
        "class Model():\n",
        "    core: list"
      ],
      "execution_count": 5,
      "outputs": []
    },
    {
      "cell_type": "code",
      "metadata": {
        "id": "9omD-xdkE1pt",
        "colab_type": "code",
        "colab": {}
      },
      "source": [
        "def mod_to_old(ttm):\n",
        "    d = len(ttm.core)\n",
        "    n = []\n",
        "    r = []\n",
        "    for X in ttm.core:\n",
        "        n.append(X.shape[1])\n",
        "        r.append(X.shape[0])\n",
        "    r.append(ttm.core[d - 1].shape[2])\n",
        "    return TT_Tensor(ttm.core, d, n, r)"
      ],
      "execution_count": 6,
      "outputs": []
    },
    {
      "cell_type": "code",
      "metadata": {
        "id": "5tDfUQoC8yI2",
        "colab_type": "code",
        "colab": {}
      },
      "source": [
        "def tt_get_d(tt):\n",
        "  return len(tt.core)"
      ],
      "execution_count": 7,
      "outputs": []
    },
    {
      "cell_type": "code",
      "metadata": {
        "id": "vI1xYTrw9CEo",
        "colab_type": "code",
        "colab": {}
      },
      "source": [
        "def tt_get_n(tt):\n",
        "  d = len(tt.core)\n",
        "  n = []\n",
        "  for X in tt.core:\n",
        "        n.append(X.shape[1])\n",
        "  return n"
      ],
      "execution_count": 8,
      "outputs": []
    },
    {
      "cell_type": "code",
      "metadata": {
        "id": "irvw4vZE9Tra",
        "colab_type": "code",
        "colab": {}
      },
      "source": [
        "def tt_get_r(tt):\n",
        "  d = len(tt.core)\n",
        "  r = []\n",
        "  for X in tt.core:\n",
        "    r.append(X.shape[0])\n",
        "  r.append(tt.core[d - 1].shape[2])\n",
        "  return r"
      ],
      "execution_count": 9,
      "outputs": []
    },
    {
      "cell_type": "code",
      "metadata": {
        "id": "_1eLf9zeE9w1",
        "colab_type": "code",
        "colab": {}
      },
      "source": [
        "def tt_to_tensor(tt, shape):\n",
        "    G = tt.core\n",
        "    B = G[0]\n",
        "    for i in range(1, len(G)):\n",
        "        X = np.reshape(G[i], (G[i].shape[0], G[i].shape[1] * G[i].shape[2]))\n",
        "        B = np.reshape(B, (int(np.size(B) / G[i].shape[0]), G[i].shape[0]))\n",
        "        B = np.dot(B, X)\n",
        "    B = np.reshape(B, shape)\n",
        "    return B"
      ],
      "execution_count": 10,
      "outputs": []
    },
    {
      "cell_type": "code",
      "metadata": {
        "id": "8_H4dzbOgKHc",
        "colab_type": "code",
        "colab": {}
      },
      "source": [
        "def tt_svd(A, delta):\n",
        "\n",
        "    #time1 = time.perf_counter()\n",
        "\n",
        "    d = len(A.shape)\n",
        "    N = np.size(A)\n",
        "    n = A.shape\n",
        "\n",
        "    C = A\n",
        "    G = [] \n",
        "    r = [] \n",
        "    rk1 = 1\n",
        "\n",
        "    for k in range(1, d):\n",
        "        C = np.reshape(C, (rk1 * n[k-1], int(N / (rk1 * n[k-1]))))      \n",
        "        u, s, v = la.svd(C, full_matrices=False)\n",
        "        rc = s.shape[0]  - (s < delta).sum()\n",
        "        r.append(rc)\n",
        "        G.append(np.reshape(u, (rk1, n[k-1], u.shape[1])))\n",
        "        s = np.diag(s)\n",
        "        C = np.dot(s, v)\n",
        "        rk = C.shape[0]\n",
        "        N = (N * rk) / (n[k-1] * rk1)\n",
        "        rk1 = rk\n",
        "    \n",
        "    if len(C.shape) == 2:\n",
        "        C = np.reshape(C, (C.shape[0], C.shape[1], 1))\n",
        "        r.append(C.shape[2])\n",
        "        \n",
        "    G.append(C)\n",
        "\n",
        "    #time2 = time.perf_counter()\n",
        "    #print(\"\\n time: \", time2 - time1)\n",
        "    \n",
        "    return Model(G), r"
      ],
      "execution_count": 11,
      "outputs": []
    },
    {
      "cell_type": "code",
      "metadata": {
        "id": "-pf-AbCkOlwR",
        "colab_type": "code",
        "colab": {}
      },
      "source": [
        "def tt_sum(tt1, tt2):\n",
        "    #time1 = time.perf_counter()\n",
        "    d1 = len(tt1.core)\n",
        "    d2 = len(tt2.core)\n",
        "    if d1 == d2:\n",
        "        d = d1\n",
        "    else:\n",
        "        raise Exception(\"Different dimensions of tensors.\")\n",
        "\n",
        "    r1 = []\n",
        "    n1 = []\n",
        "    for X in tt1.core:\n",
        "        n1.append(X.shape[1])\n",
        "        r1.append(X.shape[0])\n",
        "    r1.append(tt1.core[len(tt1.core) - 1].shape[2])\n",
        "\n",
        "    r2 = []\n",
        "    n2 = []\n",
        "    for X in tt2.core:\n",
        "        n2.append(X.shape[1])\n",
        "        r2.append(X.shape[0])\n",
        "    r2.append(tt2.core[len(tt2.core) - 1].shape[2])\n",
        "    \n",
        "    r = [x + y for x, y in zip(r1, r2)]\n",
        "    \n",
        "    if r1[0] == r2[0]:\n",
        "        r[0] = r1[0]\n",
        "    else:\n",
        "        raise Exception(\"Different sizes of first mode.\")\n",
        "        \n",
        "    if r1[d] == r2[d]:\n",
        "        r[d] = r1[d]\n",
        "    else:\n",
        "        raise Exception(\"Different sizes of last mode.\")\n",
        "        \n",
        "    n = n1\n",
        "    G = []\n",
        "    \n",
        "    for i in range(0, d):\n",
        "        Gi = nnp.zeros((r[i], n[i], r[i+1]))\n",
        "        Gi = ops.index_update(Gi, ops.index[0 : r1[i], :, 0 : r1[i+1]], tt1.core[i])\n",
        "        Gi = ops.index_update(Gi, ops.index[r[i] - r2[i] : r[i], :, r[i+1] - r2[i+1]: r[i+1]], tt2.core[i])\n",
        "        #Gi[0 : r1[i], :, 0 : r1[i+1]] = tt1.core[i]\n",
        "        #Gi[r[i] - r2[i] : r[i], :, r[i+1] - r2[i+1]: r[i+1]] = tt2.core[i]   \n",
        "        G.append(Gi)\n",
        "\n",
        "    #time2 = time.perf_counter()\n",
        "    #print(\"\\n time: \", time2 - time1)\n",
        "    \n",
        "    return Model(G)"
      ],
      "execution_count": 12,
      "outputs": []
    },
    {
      "cell_type": "code",
      "metadata": {
        "id": "U0_uR9C6FCr8",
        "colab_type": "code",
        "colab": {}
      },
      "source": [
        "def tt_round(tt, delta):  \n",
        "    G = tt.core\n",
        "    d = len(tt.core)\n",
        "    rn = []\n",
        "    #time1 = time.perf_counter()    \n",
        "    \n",
        "    for k in range(d-1, 0, -1):\n",
        "        r1, n, r2 = G[k].shape\n",
        "        G[k] = np.reshape(G[k], (r1, n * r2))\n",
        "        G[k] = np.transpose(G[k])\n",
        "        G[k], R = la.qr(G[k])\n",
        "        G[k] = np.transpose(G[k])\n",
        "        G[k-1] = np.einsum('ijk,lk->ijl', G[k-1], R) \n",
        "    \n",
        "    for k in range(0, d - 1):\n",
        "        \n",
        "        if k == 0:\n",
        "            r1, n1, r2 = G[k].shape\n",
        "            r3 = G[k+2].shape[0]\n",
        "            n2 = int(G[k+1].shape[1] / r3)\n",
        "        elif k == d - 2:\n",
        "            r1 = G[k].shape[0]\n",
        "            r2 = G[k+1].shape[0]\n",
        "            n1 = int(G[k].shape[1] / r2)\n",
        "            r3 = 1\n",
        "            n2 = G[k+1].shape[1]\n",
        "        else:\n",
        "            r1 = G[k].shape[0]\n",
        "            r2 = G[k+1].shape[0]\n",
        "            n1 = int(G[k].shape[1] / r2)\n",
        "            r3 = G[k+2].shape[0]\n",
        "            n2 = int(G[k+1].shape[1] / r3)\n",
        "\n",
        "        G[k] = np.reshape(G[k], (r1 * n1, r2))\n",
        "\n",
        "        u, s, v = la.svd(G[k], full_matrices=False)\n",
        " \n",
        "        rc = s.shape[0]  - (s < delta).sum()\n",
        "        rn.append(rc)\n",
        "        s = np.diag(s)  \n",
        "         \n",
        "        v = np.dot(s, v) \n",
        "        G[k] = np.reshape(u, (r1, n1, u.shape[1]))\n",
        "        G[k+1] = np.einsum('ij,ik->kj', G[k+1], v.T)\n",
        "    \n",
        "    \n",
        "    if len(G[d-1].shape) == 2:\n",
        "        G[d-1] = np.reshape(G[d-1], (G[d-1].shape[0], G[d-1].shape[1], 1))\n",
        "\n",
        "    #time2 = time.perf_counter()\n",
        "    #print(\"\\n time: \", time2 - time1)\n",
        "    \n",
        "    return Model(G), rn"
      ],
      "execution_count": 13,
      "outputs": []
    },
    {
      "cell_type": "code",
      "metadata": {
        "id": "P4eoKMQct9Ie",
        "colab_type": "code",
        "colab": {}
      },
      "source": [
        "def tt_matrix(A):\n",
        "  d = int(len(A.shape) / 2)\n",
        "  nper = []\n",
        "  for i in range(d):\n",
        "    nper.append(i)\n",
        "    nper.append(i+d)\n",
        "  return A.transpose(nper)"
      ],
      "execution_count": 45,
      "outputs": []
    },
    {
      "cell_type": "code",
      "metadata": {
        "id": "asFhA87r71KO",
        "colab_type": "code",
        "colab": {
          "base_uri": "https://localhost:8080/",
          "height": 1000
        },
        "outputId": "6c68b1ec-2860-407f-9722-d418411b63a9"
      },
      "source": [
        "'''\n",
        "A = []\n",
        "dim = 2\n",
        "x = 0\n",
        "for i in range(2 ** dim):\n",
        "  A.append(math.sin(x))\n",
        "  x = x + math.pi / (2 ** dim - 1)\n",
        "shp = [2 for i in range(dim)]\n",
        "A = np.asarray(A)\n",
        "A = A.reshape(shp)\n",
        "'''\n",
        "#A = np.array([[1, 0, 0], [0, 1, 0], [0, 0, 1]])\n",
        "dim = 4\n",
        "A = np.arange(2**(dim))\n",
        "A = np.asarray(A)\n",
        "A = A.reshape([2 for i in range(dim)])\n",
        "eps = 1e-2 \n",
        "\n",
        "print(A, \"\\n\", A.shape)\n",
        "\n",
        "A = tt_matrix(A)\n",
        "\n",
        "print(A, \"\\n\", A.shape)\n",
        "\n",
        "fast_tt_svd = jit(tt_svd, static_argnums=(1))\n",
        "tt, rn = fast_tt_svd(A, eps / math.sqrt(len(A.shape) - 1))\n",
        "#ttnew, rn = tt_svd(A, eps / math.sqrt(len(A.shape) - 1))\n",
        "\n",
        "for i in range(len(rn)-1):  \n",
        "    tt.core[i] = tt.core[i][:, :, :rn[i]]\n",
        "    tt.core[i+1] = tt.core[i+1][:rn[i], :, :]\n",
        "\n",
        "for X in tt.core:\n",
        "  print(\"c:\\n\", X)\n",
        "\n",
        "print(tt_get_r(tt))\n",
        "\n",
        "B = tt_to_tensor(tt, A.shape)\n",
        "print(B)\n",
        "\n"
      ],
      "execution_count": 46,
      "outputs": [
        {
          "output_type": "stream",
          "text": [
            "[[[[ 0  1]\n",
            "   [ 2  3]]\n",
            "\n",
            "  [[ 4  5]\n",
            "   [ 6  7]]]\n",
            "\n",
            "\n",
            " [[[ 8  9]\n",
            "   [10 11]]\n",
            "\n",
            "  [[12 13]\n",
            "   [14 15]]]] \n",
            " (2, 2, 2, 2)\n",
            "[[[[ 0  1]\n",
            "   [ 4  5]]\n",
            "\n",
            "  [[ 2  3]\n",
            "   [ 6  7]]]\n",
            "\n",
            "\n",
            " [[[ 8  9]\n",
            "   [12 13]]\n",
            "\n",
            "  [[10 11]\n",
            "   [14 15]]]] \n",
            " (2, 2, 2, 2)\n",
            "c:\n",
            " [[[ 0.31874645  0.94784003]\n",
            "  [ 0.94784003 -0.31874645]]]\n",
            "c:\n",
            " [[[ 0.63188636 -0.157323  ]\n",
            "  [ 0.7734447   0.11531131]]\n",
            "\n",
            " [[-0.03911228 -0.7579181 ]\n",
            "  [ 0.03119771 -0.6225059 ]]]\n",
            "c:\n",
            " [[[ 0.54600716 -0.30995786]\n",
            "  [ 0.8309377   0.15788099]]\n",
            "\n",
            " [[ 0.08937807  0.77318436]\n",
            "  [-0.05856603  0.53026927]]]\n",
            "c:\n",
            " [[[23.651743  ]\n",
            "  [26.067415  ]]\n",
            "\n",
            " [[ 0.7713588 ]\n",
            "  [-0.69987684]]]\n",
            "[1, 2, 2, 2, 1]\n",
            "[[[[1.4305115e-06 1.0000032e+00]\n",
            "   [4.0000062e+00 5.0000067e+00]]\n",
            "\n",
            "  [[2.0000043e+00 3.0000057e+00]\n",
            "   [6.0000057e+00 7.0000057e+00]]]\n",
            "\n",
            "\n",
            " [[[7.9999952e+00 8.9999971e+00]\n",
            "   [1.2000001e+01 1.3000000e+01]]\n",
            "\n",
            "  [[9.9999981e+00 1.0999998e+01]\n",
            "   [1.3999994e+01 1.4999993e+01]]]]\n"
          ],
          "name": "stdout"
        }
      ]
    },
    {
      "cell_type": "code",
      "metadata": {
        "id": "KE2aLeaGIAXz",
        "colab_type": "code",
        "colab": {
          "base_uri": "https://localhost:8080/",
          "height": 68
        },
        "outputId": "5ef4d10b-9c1e-4234-970e-109bb1edc1d6"
      },
      "source": [
        "x = np.zeros((1, 2, 3, 4, 5, 6, 7, 8, 9, 10))\n",
        "print(x.shape, \" old\")\n",
        "d = int(len(x.shape) / 2)\n",
        "b = []\n",
        "for i in range(d):\n",
        "  b.append(i)\n",
        "  b.append(i+d)\n",
        "print(b)\n",
        "x = x.transpose(b)\n",
        "\n",
        "print(x.shape, \" new\")"
      ],
      "execution_count": 39,
      "outputs": [
        {
          "output_type": "stream",
          "text": [
            "(1, 2, 3, 4, 5, 6, 7, 8, 9, 10)  old\n",
            "[0, 5, 1, 6, 2, 7, 3, 8, 4, 9]\n",
            "(1, 6, 2, 7, 3, 8, 4, 9, 5, 10)  new\n"
          ],
          "name": "stdout"
        }
      ]
    },
    {
      "cell_type": "code",
      "metadata": {
        "id": "dYO0QAoeFVLV",
        "colab_type": "code",
        "colab": {
          "base_uri": "https://localhost:8080/",
          "height": 137
        },
        "outputId": "06d696da-672f-4323-b600-348f17711b03"
      },
      "source": [
        "# input tensor A\n",
        "'''\n",
        "A = np.array([[1/2, 1/3, 1/4], [1/3, 1/4, 1/5], [1/4, 1/5, 1/6]])\n",
        "A = np.arange(24)\n",
        "B = A.reshape(4, 3, 2)\n",
        "A = B\n",
        "'''\n",
        "\n",
        "'''\n",
        "A = np.ones(1000000)\n",
        "A = A.reshape(100, 100, 100)\n",
        "#4 3 2\n",
        "'''\n",
        "'''\n",
        "A = []\n",
        "for i in range(100):\n",
        "  for j in range(100):\n",
        "    for q in range(100):\n",
        "      A.append(1 / (i + j + q + 3))\n",
        "A = np.asarray(A)\n",
        "A = A.reshape(100, 100, 100)\n",
        "'''\n",
        "\n",
        "A = []\n",
        "dim = 15\n",
        "x = 0\n",
        "for i in range(2 ** dim):\n",
        "  A.append(math.sin(x))\n",
        "  x = x + math.pi / (2 ** dim - 1)\n",
        "shp = [2 for i in range(dim)]\n",
        "A = np.asarray(A)\n",
        "A = A.reshape(shp)\n",
        "\n",
        "eps = 1e-2 # accuracy\n",
        "\n",
        "\n",
        "fast_tt_svd = jit(tt_svd, static_argnums=(1))\n",
        "tt, rn = fast_tt_svd(A, eps / math.sqrt(len(A.shape) - 1))\n",
        "#ttnew, rn = tt_svd(A, eps / math.sqrt(len(A.shape) - 1))\n",
        "\n",
        "for i in range(len(rn)-1):  \n",
        "    tt.core[i] = tt.core[i][:, :, :rn[i]]\n",
        "    tt.core[i+1] = tt.core[i+1][:rn[i], :, :]\n",
        "\n",
        "fast_tt_sum = jit(tt_sum)\n",
        "%timeit tts = fast_tt_sum(tt, tt)\n",
        "#%timeit tts = tt_sum(tt, tt)\n",
        "#for X in tts.core:\n",
        "#  print(X)\n",
        "\n",
        "ttsold = mod_to_old(tts)\n",
        "print(\"\\nRanks tts: \", ttsold.r)\n",
        "\n",
        "fast_tt_round = jit(tt_round, static_argnums=(1))\n",
        "ttr, rn = fast_tt_round(tts, eps / math.sqrt(len(tts.core) - 1))\n",
        "#ttr, rn = tt_round(tts, eps / math.sqrt(len(tts.core) - 1))\n",
        "\n",
        "for i in range(len(rn)):  \n",
        "    ttr.core[i] = ttr.core[i][:, :, :rn[i]]\n",
        "    ttr.core[i+1] = ttr.core[i+1][:rn[i], :, :]\n",
        "\n",
        "\n",
        "#ttr2 = ttpy.matrix.round(tts)\n",
        "#ttr2 = ttpy.tensor.round(tts, eps)\n",
        "'''\n",
        "print(\"\\nttr:\")\n",
        "for X in ttr.core:\n",
        "    print(\"\\nCore:\\n\", X, \"\\nShape: \", X.shape)\n",
        "'''\n",
        "ttro = mod_to_old(ttr)\n",
        "print(\"\\nRanks ttr: \", ttro.r)\n",
        "'''\n",
        "B = tt_to_tensor(tts, A.shape)\n",
        "#print(\"\\nB = A + A:\\n\", B)\n",
        "C = tt_to_tensor(ttro, A.shape)\n",
        "#print(\"\\nC = round(B):\\n\", C)\n",
        "print(\"\\n\", la.norm(B-C), \" <= \", eps*la.norm(B), la.norm(B-C) <= eps*la.norm(B))\n",
        "'''\n"
      ],
      "execution_count": null,
      "outputs": [
        {
          "output_type": "stream",
          "text": [
            "The slowest run took 199.50 times longer than the fastest. This could mean that an intermediate result is being cached.\n",
            "1000 loops, best of 3: 870 µs per loop\n",
            "\n",
            "Ranks tts:  [1, 4, 4, 4, 4, 4, 4, 4, 4, 4, 4, 4, 4, 4, 4, 1]\n",
            "\n",
            "Ranks ttr:  [1, 2, 2, 2, 2, 2, 2, 2, 2, 2, 2, 2, 2, 2, 2, 1]\n"
          ],
          "name": "stdout"
        },
        {
          "output_type": "execute_result",
          "data": {
            "application/vnd.google.colaboratory.intrinsic+json": {
              "type": "string"
            },
            "text/plain": [
              "'\\nB = tt_to_tensor(tts, A.shape)\\n#print(\"\\nB = A + A:\\n\", B)\\nC = tt_to_tensor(ttro, A.shape)\\n#print(\"\\nC = round(B):\\n\", C)\\nprint(\"\\n\", la.norm(B-C), \" <= \", eps*la.norm(B), la.norm(B-C) <= eps*la.norm(B))\\n'"
            ]
          },
          "metadata": {
            "tags": []
          },
          "execution_count": 59
        }
      ]
    }
  ]
}